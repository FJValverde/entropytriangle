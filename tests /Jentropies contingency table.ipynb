{
 "cells": [
  {
   "cell_type": "code",
   "execution_count": 4,
   "metadata": {},
   "outputs": [],
   "source": [
    "import numpy as np \n",
    "import pandas as pd\n",
    "import sys\n",
    "import scipy as sc\n",
    "import itertools\n",
    "from auxfunc import *"
   ]
  },
  {
   "cell_type": "code",
   "execution_count": 5,
   "metadata": {
    "scrolled": true
   },
   "outputs": [
    {
     "ename": "AttributeError",
     "evalue": "module 'scipy' has no attribute 'entropy'",
     "output_type": "error",
     "traceback": [
      "\u001b[0;31m---------------------------------------------------------------------------\u001b[0m",
      "\u001b[0;31mAttributeError\u001b[0m                            Traceback (most recent call last)",
      "\u001b[0;32m<ipython-input-5-f4b7ed7eea18>\u001b[0m in \u001b[0;36m<module>\u001b[0;34m()\u001b[0m\n\u001b[1;32m     15\u001b[0m \u001b[0;34m\u001b[0m\u001b[0m\n\u001b[1;32m     16\u001b[0m \u001b[0mNx\u001b[0m \u001b[0;34m=\u001b[0m \u001b[0mNxy\u001b[0m\u001b[0;34m.\u001b[0m\u001b[0msum\u001b[0m\u001b[0;34m(\u001b[0m\u001b[0maxis\u001b[0m \u001b[0;34m=\u001b[0m \u001b[0;36m1\u001b[0m\u001b[0;34m)\u001b[0m \u001b[0;34m;\u001b[0m \u001b[0mNy\u001b[0m \u001b[0;34m=\u001b[0m \u001b[0mNxy\u001b[0m\u001b[0;34m.\u001b[0m\u001b[0msum\u001b[0m\u001b[0;34m(\u001b[0m\u001b[0maxis\u001b[0m \u001b[0;34m=\u001b[0m \u001b[0;36m0\u001b[0m\u001b[0;34m)\u001b[0m\u001b[0;34m\u001b[0m\u001b[0m\n\u001b[0;32m---> 17\u001b[0;31m \u001b[0mHx\u001b[0m \u001b[0;34m=\u001b[0m \u001b[0msc\u001b[0m\u001b[0;34m.\u001b[0m\u001b[0mentropy\u001b[0m\u001b[0;34m(\u001b[0m\u001b[0mNx\u001b[0m \u001b[0;34m,\u001b[0m \u001b[0mbase\u001b[0m \u001b[0;34m=\u001b[0m \u001b[0mbase\u001b[0m\u001b[0;34m)\u001b[0m \u001b[0;34m;\u001b[0m \u001b[0mHy\u001b[0m \u001b[0;34m=\u001b[0m \u001b[0msc\u001b[0m\u001b[0;34m.\u001b[0m\u001b[0mentropy\u001b[0m\u001b[0;34m(\u001b[0m\u001b[0mNy\u001b[0m \u001b[0;34m,\u001b[0m \u001b[0mbase\u001b[0m \u001b[0;34m=\u001b[0m \u001b[0mbase\u001b[0m\u001b[0;34m)\u001b[0m\u001b[0;34m\u001b[0m\u001b[0m\n\u001b[0m\u001b[1;32m     18\u001b[0m \u001b[0mUx\u001b[0m \u001b[0;34m=\u001b[0m \u001b[0mnp\u001b[0m\u001b[0;34m.\u001b[0m\u001b[0mlog2\u001b[0m\u001b[0;34m(\u001b[0m\u001b[0mdims\u001b[0m\u001b[0;34m[\u001b[0m\u001b[0;36m0\u001b[0m\u001b[0;34m]\u001b[0m\u001b[0;34m)\u001b[0m \u001b[0;34m;\u001b[0m \u001b[0mUy\u001b[0m \u001b[0;34m=\u001b[0m \u001b[0mnp\u001b[0m\u001b[0;34m.\u001b[0m\u001b[0mlog2\u001b[0m\u001b[0;34m(\u001b[0m\u001b[0mdims\u001b[0m\u001b[0;34m[\u001b[0m\u001b[0;36m1\u001b[0m\u001b[0;34m]\u001b[0m\u001b[0;34m)\u001b[0m\u001b[0;34m\u001b[0m\u001b[0m\n\u001b[1;32m     19\u001b[0m \u001b[0mHxy\u001b[0m \u001b[0;34m=\u001b[0m \u001b[0msc\u001b[0m\u001b[0;34m.\u001b[0m\u001b[0mentropy\u001b[0m\u001b[0;34m(\u001b[0m\u001b[0mNxy\u001b[0m\u001b[0;34m.\u001b[0m\u001b[0mreshape\u001b[0m\u001b[0;34m(\u001b[0m\u001b[0mnp\u001b[0m\u001b[0;34m.\u001b[0m\u001b[0mprod\u001b[0m\u001b[0;34m(\u001b[0m\u001b[0mdims\u001b[0m\u001b[0;34m)\u001b[0m\u001b[0;34m)\u001b[0m\u001b[0;34m,\u001b[0m \u001b[0mbase\u001b[0m  \u001b[0;34m=\u001b[0m \u001b[0mbase\u001b[0m\u001b[0;34m)\u001b[0m\u001b[0;34m\u001b[0m\u001b[0m\n",
      "\u001b[0;31mAttributeError\u001b[0m: module 'scipy' has no attribute 'entropy'"
     ]
    }
   ],
   "source": [
    "base = 2\n",
    "Nxy = np.arange(1,10).reshape(3,3)\n",
    "'''\n",
    "\n",
    "#' Given a 2-d contingency table, provide a single vector of joint entropies. \n",
    "#' @param Nxy An n-contingency matrix where n > 2\n",
    "#' @param unit The logarithm to be used in working out the jentropies. Defaults to \"log2\".\n",
    "\n",
    "'''\n",
    "\n",
    "dims = Nxy.shape # dim is a tuple wiht dim[0] rows  and dim[1] columns\n",
    "\n",
    "if(len(dims) != 2):\n",
    "    sys.exit(\"It must be a 2 dimensions array\")\n",
    "\n",
    "Nx = Nxy.sum(axis = 1) ; Ny = Nxy.sum(axis = 0) \n",
    "Hx = sc.entropy(Nx , base = base) ; Hy = sc.entropy(Ny , base = base)\n",
    "Ux = np.log2(dims[0]) ; Uy = np.log2(dims[1])\n",
    "Hxy = sc.entropy(Nxy.reshape(np.prod(dims)), base  = base)\n",
    "VI_P = [(Hxy-Hy),(Hxy-Hx)]\n",
    "\n",
    "#edf = pd.DataFrame([Ux,Uy,Hx,Hy,Hxy], columns = ['Ux','Uy','Hx','Hy','Hxy'])\n",
    "edf = pd.DataFrame({'Type':['X','Y'],'H_P':[Hx,Hy] , 'H_U' : [Ux,Uy] ,'DeltaH_P':[(Ux - Hx) , (Uy - Hy)] , 'M_P': [Hx - VI_P[0] , Hy - VI_P[1]] , 'VI_P': VI_P }, columns = ['Type','H_U','H_P','DeltaH_P','M_P','VI_P'])\n",
    "edf = edf.append(edf.apply(lambda x: np.sum(x,axis=0),axis = 0), ignore_index=True)\n",
    "#edf.loc['All'] = edf.sum(axis = 0)\n",
    "edf = edf.set_index('Type')\n"
   ]
  },
  {
   "cell_type": "code",
   "execution_count": 12,
   "metadata": {},
   "outputs": [
    {
     "data": {
      "text/html": [
       "<div>\n",
       "<style scoped>\n",
       "    .dataframe tbody tr th:only-of-type {\n",
       "        vertical-align: middle;\n",
       "    }\n",
       "\n",
       "    .dataframe tbody tr th {\n",
       "        vertical-align: top;\n",
       "    }\n",
       "\n",
       "    .dataframe thead th {\n",
       "        text-align: right;\n",
       "    }\n",
       "</style>\n",
       "<table border=\"1\" class=\"dataframe\">\n",
       "  <thead>\n",
       "    <tr style=\"text-align: right;\">\n",
       "      <th></th>\n",
       "      <th>H_U</th>\n",
       "      <th>H_P</th>\n",
       "      <th>DeltaH_P</th>\n",
       "      <th>M_P</th>\n",
       "      <th>VI_P</th>\n",
       "    </tr>\n",
       "    <tr>\n",
       "      <th>Type</th>\n",
       "      <th></th>\n",
       "      <th></th>\n",
       "      <th></th>\n",
       "      <th></th>\n",
       "      <th></th>\n",
       "    </tr>\n",
       "  </thead>\n",
       "  <tbody>\n",
       "    <tr>\n",
       "      <th>X</th>\n",
       "      <td>1.584963</td>\n",
       "      <td>1.399581</td>\n",
       "      <td>0.185381</td>\n",
       "      <td>0.007882</td>\n",
       "      <td>1.391699</td>\n",
       "    </tr>\n",
       "    <tr>\n",
       "      <th>Y</th>\n",
       "      <td>1.584963</td>\n",
       "      <td>1.565596</td>\n",
       "      <td>0.019366</td>\n",
       "      <td>0.007882</td>\n",
       "      <td>1.557714</td>\n",
       "    </tr>\n",
       "    <tr>\n",
       "      <th>XY</th>\n",
       "      <td>3.169925</td>\n",
       "      <td>2.965177</td>\n",
       "      <td>0.204748</td>\n",
       "      <td>0.015765</td>\n",
       "      <td>2.949413</td>\n",
       "    </tr>\n",
       "  </tbody>\n",
       "</table>\n",
       "</div>"
      ],
      "text/plain": [
       "           H_U       H_P  DeltaH_P       M_P      VI_P\n",
       "Type                                                  \n",
       "X     1.584963  1.399581  0.185381  0.007882  1.391699\n",
       "Y     1.584963  1.565596  0.019366  0.007882  1.557714\n",
       "XY    3.169925  2.965177  0.204748  0.015765  2.949413"
      ]
     },
     "execution_count": 12,
     "metadata": {},
     "output_type": "execute_result"
    }
   ],
   "source": []
  },
  {
   "cell_type": "code",
   "execution_count": 14,
   "metadata": {},
   "outputs": [],
   "source": [
    "def jentropies2d(Nxy, base = 2):\n",
    "\n",
    "    '''\n",
    "\n",
    "    #' Given a 2-d contingency table, provide a single vector of joint entropies. \n",
    "    #' @param Nxy An n-contingency matrix where n > 2\n",
    "    #' @param unit The logarithm to be used in working out the jentropies. Defaults to \"log2\".\n",
    "\n",
    "    '''\n",
    "\n",
    "    dims = Nxy.shape # dim is a tuple wiht dim[0] rows  and dim[1] columns\n",
    "\n",
    "    if(len(dims) != 2):\n",
    "        sys.exit(\"It must be a 2 dimensions array\")\n",
    "\n",
    "    Nx = Nxy.sum(axis = 1) ; Ny = Nxy.sum(axis = 0) \n",
    "    Hx = sc.stats.entropy(Nx , base = base) ; Hy = sc.stats.entropy(Ny , base = base)\n",
    "    Ux = np.log2(dims[0]) ; Uy = np.log2(dims[1])\n",
    "    Hxy = sc.stats.entropy(Nxy.reshape(np.prod(dims)), base  = base)\n",
    "    VI_P = [(Hxy-Hy),(Hxy-Hx)]\n",
    "\n",
    "    #edf = pd.DataFrame([Ux,Uy,Hx,Hy,Hxy], columns = ['Ux','Uy','Hx','Hy','Hxy'])\n",
    "    edf = pd.DataFrame({'Type':['X','Y'],'H_P':[Hx,Hy] , 'H_U' : [Ux,Uy] ,'DeltaH_P':[(Ux - Hx) , (Uy - Hy)] , 'M_P': [Hx - VI_P[0] , Hy - VI_P[1]] , 'VI_P': VI_P }, columns = ['Type','H_U','H_P','DeltaH_P','M_P','VI_P'])\n",
    "    edf = edf.append(edf.apply(lambda x: np.sum(x,axis=0),axis = 0), ignore_index=True)\n",
    "    #edf.loc['All'] = edf.sum(axis = 0)\n",
    "    edf = edf.set_index('Type')\n",
    "\n",
    "    return edf\n",
    "\n",
    "\n",
    "\n",
    "\n",
    "\n",
    "def jentropies_ct(Nxy, base = 2):\n",
    "\n",
    "    dims = Nxy.shape # dim is a tuple wiht dim[0] rows  and dim[1] columns\n",
    "\n",
    "    if(len(dims) < 2):\n",
    "        sys.exit(\"Cannot process joint entropies for tables with less than 2 dimensions\")\n",
    "\n",
    "    if (dims[1] < 2 or dims[2] < 2):\n",
    "        stop(\"jentropies are not defined for distributions with a singleton domain.\")\n",
    "\n",
    "    if (len(dims) == 2):\n",
    "        edf = jentropies2d(Nxy , base = base)\n",
    "\n",
    "    else:\t\n",
    "        if (len(dims)==3):\n",
    "            lis = list()\n",
    "            for i in range((dims[0])): lis.append(jentropies2d(Nxy[i]))\n",
    "\n",
    "        else:\n",
    "            lis = list()\n",
    "            Nxy = Nxy.reshape((np.prod(list(Nxy.shape[0:-2]))), Nxy.shape[-2], Nxy.shape[-1])\n",
    "            for i in range((Nxy.shape[0])): lis.append(jentropies2d(Nxy[i]))\n",
    "\n",
    "        edf = pd.concat(lis)\n",
    "\n",
    "    return edf\n"
   ]
  },
  {
   "cell_type": "code",
   "execution_count": null,
   "metadata": {},
   "outputs": [],
   "source": [
    "jen"
   ]
  }
 ],
 "metadata": {
  "kernelspec": {
   "display_name": "Python 3",
   "language": "python",
   "name": "python3"
  },
  "language_info": {
   "codemirror_mode": {
    "name": "ipython",
    "version": 3
   },
   "file_extension": ".py",
   "mimetype": "text/x-python",
   "name": "python",
   "nbconvert_exporter": "python",
   "pygments_lexer": "ipython3",
   "version": "3.6.5"
  }
 },
 "nbformat": 4,
 "nbformat_minor": 2
}
