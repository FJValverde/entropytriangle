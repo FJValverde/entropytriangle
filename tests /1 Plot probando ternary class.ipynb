{
 "cells": [
  {
   "cell_type": "code",
   "execution_count": 42,
   "metadata": {},
   "outputs": [],
   "source": [
    "import numpy as np \n",
    "import pandas as pd\n",
    "import scipy as sc\n",
    "from codetriangle.sentropies import *\n",
    "from codetriangle.jentropies import *"
   ]
  },
  {
   "cell_type": "code",
   "execution_count": 43,
   "metadata": {},
   "outputs": [],
   "source": [
    "import pandas as pd\n",
    "import numpy as np\n",
    "df = pd.read_csv('https://archive.ics.uci.edu/ml/machine-learning-databases/breast-cancer-wisconsin/breast-cancer-wisconsin.data', names = ['Sample code number','Clump Thickness','Uniformity of Cell Size','Uniformity of Cell Shape','Marginal Adhesion','Single Epithelial Cell Size','Bare Nuclei','Bland Chromatin','Normal Nucleoli','Mitoses','Class'])\n",
    "df = df.drop(['Sample code number'],axis = 1)\n",
    "\n",
    "from sklearn.preprocessing import LabelEncoder   #' Used for discretization"
   ]
  },
  {
   "cell_type": "code",
   "execution_count": 44,
   "metadata": {},
   "outputs": [
    {
     "name": "stdout",
     "output_type": "stream",
     "text": [
      "233\n"
     ]
    },
    {
     "name": "stderr",
     "output_type": "stream",
     "text": [
      "/Users/jaime.de.los.rios/Documents/Jupyter Prueba Fran/codetriangle/sentropies.py:92: UserWarning: Discretizing data from X DataFrame before entropy calculation!\n",
      "  warnings.warn(\"Discretizing data from X DataFrame before entropy calculation!\") #' Throwing a Warning for communicating a discretization of data\n",
      "/Users/jaime.de.los.rios/Documents/Jupyter Prueba Fran/codetriangle/auxfunc.py:33: UserWarning: Discretizing data!\n",
      "  warnings.warn(\"Discretizing data!\")\n"
     ]
    }
   ],
   "source": [
    "edf = sentropies_df(df)"
   ]
  },
  {
   "cell_type": "code",
   "execution_count": 22,
   "metadata": {},
   "outputs": [],
   "source": [
    "def smetcoords(df,scale=100):\n",
    "\n",
    "    c = list()\n",
    "    for i in range(df.shape[0]):\n",
    "        if(df.iloc[i].values[2:6].sum()>1):\n",
    "            c.append((df.iloc[i].values[2:6])/df.iloc[i].values[0])\n",
    "        #else:\n",
    "            #c.append(df.iloc[i].values[2:6])\n",
    "    c = list(map(lambda x: x * scale, c))\n",
    "    \n",
    "    return c\n"
   ]
  },
  {
   "cell_type": "code",
   "execution_count": 20,
   "metadata": {},
   "outputs": [],
   "source": [
    "points = smetcoords(edf)"
   ]
  },
  {
   "cell_type": "code",
   "execution_count": 21,
   "metadata": {},
   "outputs": [
    {
     "data": {
      "text/plain": [
       "[array([ 8.37341609, 64.1810458 , 27.44553811]),\n",
       " array([29.68312158, 67.73670894,  2.58016947]),\n",
       " array([24.91818804, 67.58672108,  7.49509089]),\n",
       " array([33.9029452 , 61.39805651,  4.69899829]),\n",
       " array([31.16966848, 61.57314322,  7.2571883 ]),\n",
       " array([39.17339488, 55.98712652,  4.83947861]),\n",
       " array([16.7303389 , 64.88047532, 18.38918578]),\n",
       " array([38.39666156, 58.66137849,  2.94195995]),\n",
       " array([64.97290247, 33.71487686,  1.31222067]),\n",
       " array([30.98927071, 60.71742157,  8.29330772])]"
      ]
     },
     "execution_count": 21,
     "metadata": {},
     "output_type": "execute_result"
    }
   ],
   "source": []
  },
  {
   "cell_type": "code",
   "execution_count": 23,
   "metadata": {},
   "outputs": [],
   "source": [
    "df1 = pd.read_csv('https://archive.ics.uci.edu/ml/machine-learning-databases/iris/iris.data', names = ['sepal length','sepal width','petal length','petal width','class'])"
   ]
  },
  {
   "cell_type": "code",
   "execution_count": 30,
   "metadata": {},
   "outputs": [
    {
     "name": "stdout",
     "output_type": "stream",
     "text": [
      "50\n"
     ]
    },
    {
     "name": "stderr",
     "output_type": "stream",
     "text": [
      "/Users/jaime.de.los.rios/Documents/Jupyter Prueba Fran/codetriangle/sentropies.py:92: UserWarning: Discretizing data from X DataFrame before entropy calculation!\n",
      "  warnings.warn(\"Discretizing data from X DataFrame before entropy calculation!\") #' Throwing a Warning for communicating a discretization of data\n",
      "/Users/jaime.de.los.rios/Documents/Jupyter Prueba Fran/codetriangle/auxfunc.py:33: UserWarning: Discretizing data!\n",
      "  warnings.warn(\"Discretizing data!\")\n"
     ]
    }
   ],
   "source": [
    "edf1 = sentropies_df(df1,type = 'dual')"
   ]
  },
  {
   "cell_type": "code",
   "execution_count": 31,
   "metadata": {},
   "outputs": [],
   "source": [
    "points1 = smetcoords(edf1)"
   ]
  },
  {
   "cell_type": "code",
   "execution_count": 32,
   "metadata": {},
   "outputs": [
    {
     "data": {
      "text/plain": [
       "[array([65.63882058, 33.12537459,  1.23580484])]"
      ]
     },
     "execution_count": 32,
     "metadata": {},
     "output_type": "execute_result"
    }
   ],
   "source": [
    "points1"
   ]
  },
  {
   "cell_type": "code",
   "execution_count": 33,
   "metadata": {},
   "outputs": [
    {
     "data": {
      "text/html": [
       "<div>\n",
       "<style scoped>\n",
       "    .dataframe tbody tr th:only-of-type {\n",
       "        vertical-align: middle;\n",
       "    }\n",
       "\n",
       "    .dataframe tbody tr th {\n",
       "        vertical-align: top;\n",
       "    }\n",
       "\n",
       "    .dataframe thead th {\n",
       "        text-align: right;\n",
       "    }\n",
       "</style>\n",
       "<table border=\"1\" class=\"dataframe\">\n",
       "  <thead>\n",
       "    <tr style=\"text-align: right;\">\n",
       "      <th></th>\n",
       "      <th>H_Ux</th>\n",
       "      <th>H_Px</th>\n",
       "      <th>DeltaH_Px</th>\n",
       "      <th>D_Px</th>\n",
       "      <th>VI_Px</th>\n",
       "    </tr>\n",
       "    <tr>\n",
       "      <th>Name</th>\n",
       "      <th></th>\n",
       "      <th></th>\n",
       "      <th></th>\n",
       "      <th></th>\n",
       "      <th></th>\n",
       "    </tr>\n",
       "  </thead>\n",
       "  <tbody>\n",
       "    <tr>\n",
       "      <th>All</th>\n",
       "      <td>20.906692</td>\n",
       "      <td>7.183786</td>\n",
       "      <td>13.722906</td>\n",
       "      <td>6.92542</td>\n",
       "      <td>0.258366</td>\n",
       "    </tr>\n",
       "  </tbody>\n",
       "</table>\n",
       "</div>"
      ],
      "text/plain": [
       "           H_Ux      H_Px  DeltaH_Px     D_Px     VI_Px\n",
       "Name                                                   \n",
       "All   20.906692  7.183786  13.722906  6.92542  0.258366"
      ]
     },
     "execution_count": 33,
     "metadata": {},
     "output_type": "execute_result"
    }
   ],
   "source": [
    "edf1"
   ]
  },
  {
   "cell_type": "code",
   "execution_count": 35,
   "metadata": {},
   "outputs": [],
   "source": [
    "from random import choice\n",
    "def markers(n) :\n",
    "    \n",
    "    filled_markers = ('o', 'v', '^', '<', '>', '8', 's', 'p', '*', 'h', 'H', 'D', 'd', 'P', 'X')\n",
    "    \n",
    "    mk = list()\n",
    "    for i in range(n) : mk.append(choice(filled_markers))\n",
    "    \n",
    "    return mk"
   ]
  },
  {
   "cell_type": "code",
   "execution_count": 40,
   "metadata": {},
   "outputs": [],
   "source": [
    "a = markers(10)"
   ]
  },
  {
   "cell_type": "code",
   "execution_count": null,
   "metadata": {},
   "outputs": [],
   "source": []
  }
 ],
 "metadata": {
  "kernelspec": {
   "display_name": "Python 3",
   "language": "python",
   "name": "python3"
  },
  "language_info": {
   "codemirror_mode": {
    "name": "ipython",
    "version": 3
   },
   "file_extension": ".py",
   "mimetype": "text/x-python",
   "name": "python",
   "nbconvert_exporter": "python",
   "pygments_lexer": "ipython3",
   "version": "3.6.5"
  }
 },
 "nbformat": 4,
 "nbformat_minor": 2
}
