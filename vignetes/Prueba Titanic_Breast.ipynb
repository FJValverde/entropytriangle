{
 "cells": [
  {
   "cell_type": "code",
   "execution_count": 1,
   "metadata": {},
   "outputs": [
    {
     "ename": "IndentationError",
     "evalue": "unindent does not match any outer indentation level (sentropies.py, line 124)",
     "output_type": "error",
     "traceback": [
      "Traceback \u001b[0;36m(most recent call last)\u001b[0m:\n",
      "  File \u001b[1;32m\"/Users/jaime.de.los.rios/anaconda3/lib/python3.6/site-packages/IPython/core/interactiveshell.py\"\u001b[0m, line \u001b[1;32m2963\u001b[0m, in \u001b[1;35mrun_code\u001b[0m\n    exec(code_obj, self.user_global_ns, self.user_ns)\n",
      "\u001b[0;36m  File \u001b[0;32m\"<ipython-input-1-d764c1f11053>\"\u001b[0;36m, line \u001b[0;32m5\u001b[0;36m, in \u001b[0;35m<module>\u001b[0;36m\u001b[0m\n\u001b[0;31m    from sentropies import *\u001b[0m\n",
      "\u001b[0;36m  File \u001b[0;32m\"/Users/jaime.de.los.rios/Documents/Jupyter Prueba Fran/sentropies.py\"\u001b[0;36m, line \u001b[0;32m124\u001b[0m\n\u001b[0;31m    H_Px = ent(sjoin(df,lis = df.columns))\u001b[0m\n\u001b[0m                                          ^\u001b[0m\n\u001b[0;31mIndentationError\u001b[0m\u001b[0;31m:\u001b[0m unindent does not match any outer indentation level\n"
     ]
    }
   ],
   "source": [
    "import numpy as np \n",
    "import pandas as pd\n",
    "import scipy as sc\n",
    "from auxfunc import *\n",
    "from sentropies import *"
   ]
  },
  {
   "cell_type": "code",
   "execution_count": null,
   "metadata": {},
   "outputs": [],
   "source": [
    "def sentropies_df(df, type = \"total\" , base = 2):\n",
    "\n",
    "    dims = df.shape\n",
    "\n",
    "    if(not isinstance(df,pd.DataFrame)):\n",
    "        sys.exit(\"Can only work with Data Frames!\")\n",
    "\n",
    "    if(dims[1] == 0 or dims[0] == 0): \n",
    "        sys.exit(\"Can only work with non-empty DataFrames!\")\n",
    "\n",
    "    if (not(all(df.dtypes)=='category')):\n",
    "        warnings.warn(\"Discretizing data from X DataFrame before entropy calculation!\") #' Throwing a Warning for communicating a discretization of data\n",
    "        df = discretization(df)\n",
    "\n",
    "    H_Uxi = df.apply((lambda x : np.log2(len(pd.unique(x)))), axis = 0).values\n",
    "    H_Pxi = df.apply(ent,axis=0).values\n",
    "\n",
    "    if (dims[1]==1):\n",
    "\n",
    "        warnings.warn(\"Single variable: providing only entropy\")\n",
    "        VI_Pxi = H_Pxi\n",
    "\n",
    "    else:\n",
    "\n",
    "        VI_Pxi = condentropies(df)\n",
    "\n",
    "    if (type == \"total\") : # TOTAL decomposition & Aggregates\n",
    "\n",
    "        if (any(df.columns.isnull())):\n",
    "            #' Delete names and append new ones\n",
    "            warnings.warn(\"No names for columns: providing variable names!\")\n",
    "            #Apply dummy names \n",
    "            df.columns = list(map(lambda x: \"x\"+str(x), range(len(df.columns))))\n",
    "\n",
    "                #'DataFrame Creation\n",
    "        edf = pd.DataFrame({'Name': list(df.columns) , 'H_Uxi': H_Uxi , 'H_Pxi':H_Pxi ,'DeltaH_Pxi': H_Uxi - H_Pxi ,'M_Pxi': H_Pxi - VI_Pxi , 'VI_Pxi': VI_Pxi}, columns = ['Name','H_Uxi','H_Pxi','DeltaH_Pxi','M_Pxi','VI_Pxi'])\n",
    "        edf = edf.set_index('Name')\n",
    "        edf.loc['All'] = edf.sum(axis = 0)\n",
    "\n",
    "\n",
    "    else :  #return only an aggregate with the DUAL total correlation D_Px\n",
    "\n",
    "        H_Ux = np.sum(H_Uxi)\n",
    "        H_Px = ent(sjoin(df,lis = df.columns))\n",
    "        #H_Px = np.sum(H_Pxi)\n",
    "        VI_Px = np.sum(VI_Pxi)\n",
    "\n",
    "        edf = pd.DataFrame({'Name' : ['All'] , 'H_Ux' : H_Ux , 'H_Px'  : H_Px , 'DeltaH_Px' : (H_Ux - H_Px) ,'D_Px' : H_Px - VI_Px , 'VI_Px' : VI_Px }, columns = ['Name','H_Ux','H_Px','DeltaH_Px','D_Px','VI_Px'])\n",
    "        edf = edf.set_index('Name')\n",
    "\n",
    "    return edf\n"
   ]
  },
  {
   "cell_type": "code",
   "execution_count": 10,
   "metadata": {},
   "outputs": [],
   "source": [
    "df = pd.read_excel('titanic.xlsx')"
   ]
  },
  {
   "cell_type": "code",
   "execution_count": 11,
   "metadata": {},
   "outputs": [
    {
     "name": "stderr",
     "output_type": "stream",
     "text": [
      "/Users/jaime.de.los.rios/Documents/Jupyter Prueba Fran/auxfunc.py:28: UserWarning: Discretizing data!\n",
      "  warnings.warn(\"Discretizing data!\")\n"
     ]
    }
   ],
   "source": [
    "df1 = discretization(df)"
   ]
  },
  {
   "cell_type": "code",
   "execution_count": 14,
   "metadata": {},
   "outputs": [],
   "source": [
    "nb = 5\n",
    "li = list() ; dims = list() \n",
    "\n",
    "df.apply((lambda x : dims.append(len(pd.unique(x)))))\n",
    "for i in range(len(df.columns)):li.append(pd.Series(df[df.columns[i]]))\n",
    "\n",
    "m = pd.crosstab(index = li[0:len(li)-1], columns = li[len(li)-1], dropna= False)"
   ]
  },
  {
   "cell_type": "code",
   "execution_count": 22,
   "metadata": {},
   "outputs": [],
   "source": [
    "H_Uxi = df.apply((lambda x : np.log2(len(pd.unique(x)))), axis = 0).values"
   ]
  },
  {
   "cell_type": "code",
   "execution_count": 23,
   "metadata": {},
   "outputs": [],
   "source": [
    "H_Pxi = df.apply(ent,axis=0).values"
   ]
  },
  {
   "cell_type": "code",
   "execution_count": 24,
   "metadata": {},
   "outputs": [],
   "source": [
    "a = df['survived']"
   ]
  },
  {
   "cell_type": "code",
   "execution_count": 27,
   "metadata": {},
   "outputs": [],
   "source": [
    "a.value_counts()\n",
    "p_data = a.value_counts()/len(a)"
   ]
  },
  {
   "cell_type": "code",
   "execution_count": 30,
   "metadata": {},
   "outputs": [
    {
     "data": {
      "text/plain": [
       "array([1.45824504, 0.41206192, 0.9244984 , 0.95746035])"
      ]
     },
     "execution_count": 30,
     "metadata": {},
     "output_type": "execute_result"
    }
   ],
   "source": [
    "H_Pxi"
   ]
  },
  {
   "cell_type": "code",
   "execution_count": 31,
   "metadata": {},
   "outputs": [
    {
     "data": {
      "text/plain": [
       "array([1.5849625, 1.       , 1.       , 1.       ])"
      ]
     },
     "execution_count": 31,
     "metadata": {},
     "output_type": "execute_result"
    }
   ],
   "source": [
    "H_Uxi"
   ]
  },
  {
   "cell_type": "code",
   "execution_count": 32,
   "metadata": {},
   "outputs": [],
   "source": [
    "VI_Pxi = condentropies(df)"
   ]
  },
  {
   "cell_type": "code",
   "execution_count": 35,
   "metadata": {},
   "outputs": [],
   "source": [
    "cond = list() ; ncol = df.columns\n",
    "total = ent(sjoin(df,lis = ncol),base = 2)"
   ]
  },
  {
   "cell_type": "code",
   "execution_count": 40,
   "metadata": {},
   "outputs": [],
   "source": [
    "p = sjoin(df,lis = ncol,sep=',')"
   ]
  },
  {
   "cell_type": "code",
   "execution_count": 42,
   "metadata": {},
   "outputs": [
    {
     "data": {
      "text/plain": [
       "3rd class,adults,man,no       0.294073\n",
       "2nd class,adults,man,no       0.117021\n",
       "1st class,adults,women,yes    0.106383\n",
       "1st class,adults,man,no       0.089666\n",
       "3rd class,adults,women,no     0.067629\n",
       "2nd class,adults,women,yes    0.060790\n",
       "3rd class,adults,women,yes    0.057751\n",
       "3rd class,adults,man,yes      0.056991\n",
       "1st class,adults,man,yes      0.043313\n",
       "3rd class,child,man,no        0.026596\n",
       "3rd class,child,women,no      0.012918\n",
       "3rd class,child,women,yes     0.010638\n",
       "2nd class,adults,man,yes      0.010638\n",
       "2nd class,adults,women,no     0.009878\n",
       "3rd class,child,man,yes       0.009878\n",
       "2nd class,child,women,yes     0.009878\n",
       "2nd class,child,man,yes       0.008359\n",
       "1st class,child,man,yes       0.003799\n",
       "1st class,adults,women,no     0.003040\n",
       "1st class,child,women,yes     0.000760\n",
       "Name: class, dtype: float64"
      ]
     },
     "execution_count": 42,
     "metadata": {},
     "output_type": "execute_result"
    }
   ],
   "source": [
    "p.value_counts()/len(df)"
   ]
  },
  {
   "cell_type": "code",
   "execution_count": 45,
   "metadata": {},
   "outputs": [
    {
     "name": "stderr",
     "output_type": "stream",
     "text": [
      "/Users/jaime.de.los.rios/anaconda3/lib/python3.6/site-packages/ipykernel_launcher.py:12: UserWarning: Discretizing data from X DataFrame before entropy calculation!\n",
      "  if sys.path[0] == '':\n",
      "/Users/jaime.de.los.rios/Documents/Jupyter Prueba Fran/auxfunc.py:28: UserWarning: Discretizing data!\n",
      "  warnings.warn(\"Discretizing data!\")\n"
     ]
    }
   ],
   "source": [
    "edf = sentropies_df(df,type='dual')"
   ]
  },
  {
   "cell_type": "code",
   "execution_count": 46,
   "metadata": {},
   "outputs": [
    {
     "data": {
      "text/html": [
       "<div>\n",
       "<style scoped>\n",
       "    .dataframe tbody tr th:only-of-type {\n",
       "        vertical-align: middle;\n",
       "    }\n",
       "\n",
       "    .dataframe tbody tr th {\n",
       "        vertical-align: top;\n",
       "    }\n",
       "\n",
       "    .dataframe thead th {\n",
       "        text-align: right;\n",
       "    }\n",
       "</style>\n",
       "<table border=\"1\" class=\"dataframe\">\n",
       "  <thead>\n",
       "    <tr style=\"text-align: right;\">\n",
       "      <th></th>\n",
       "      <th>H_Ux</th>\n",
       "      <th>H_Px</th>\n",
       "      <th>DeltaH_Px</th>\n",
       "      <th>D_Px</th>\n",
       "      <th>VI_Px</th>\n",
       "    </tr>\n",
       "    <tr>\n",
       "      <th>Name</th>\n",
       "      <th></th>\n",
       "      <th></th>\n",
       "      <th></th>\n",
       "      <th></th>\n",
       "      <th></th>\n",
       "    </tr>\n",
       "  </thead>\n",
       "  <tbody>\n",
       "    <tr>\n",
       "      <th>All</th>\n",
       "      <td>4.584963</td>\n",
       "      <td>3.393681</td>\n",
       "      <td>1.191281</td>\n",
       "      <td>0.410831</td>\n",
       "      <td>2.982851</td>\n",
       "    </tr>\n",
       "  </tbody>\n",
       "</table>\n",
       "</div>"
      ],
      "text/plain": [
       "          H_Ux      H_Px  DeltaH_Px      D_Px     VI_Px\n",
       "Name                                                   \n",
       "All   4.584963  3.393681   1.191281  0.410831  2.982851"
      ]
     },
     "execution_count": 46,
     "metadata": {},
     "output_type": "execute_result"
    }
   ],
   "source": [
    "edf"
   ]
  },
  {
   "cell_type": "code",
   "execution_count": 65,
   "metadata": {},
   "outputs": [],
   "source": [
    "dfb = pd.read_csv('Breast_data.csv',delimiter=',',na_values=0)\n",
    "dfb.drop(labels='Class',axis = 1)"
   ]
  },
  {
   "cell_type": "code",
   "execution_count": 87,
   "metadata": {},
   "outputs": [
    {
     "name": "stderr",
     "output_type": "stream",
     "text": [
      "/Users/jaime.de.los.rios/anaconda3/lib/python3.6/site-packages/ipykernel_launcher.py:12: UserWarning: Discretizing data from X DataFrame before entropy calculation!\n",
      "  if sys.path[0] == '':\n",
      "/Users/jaime.de.los.rios/Documents/Jupyter Prueba Fran/auxfunc.py:28: UserWarning: Discretizing data!\n",
      "  warnings.warn(\"Discretizing data!\")\n"
     ]
    }
   ],
   "source": [
    "edf = sentropies_df(ert,'dual')"
   ]
  },
  {
   "cell_type": "code",
   "execution_count": 89,
   "metadata": {},
   "outputs": [
    {
     "data": {
      "text/html": [
       "<div>\n",
       "<style scoped>\n",
       "    .dataframe tbody tr th:only-of-type {\n",
       "        vertical-align: middle;\n",
       "    }\n",
       "\n",
       "    .dataframe tbody tr th {\n",
       "        vertical-align: top;\n",
       "    }\n",
       "\n",
       "    .dataframe thead th {\n",
       "        text-align: right;\n",
       "    }\n",
       "</style>\n",
       "<table border=\"1\" class=\"dataframe\">\n",
       "  <thead>\n",
       "    <tr style=\"text-align: right;\">\n",
       "      <th></th>\n",
       "      <th>H_Ux</th>\n",
       "      <th>H_Px</th>\n",
       "      <th>DeltaH_Px</th>\n",
       "      <th>D_Px</th>\n",
       "      <th>VI_Px</th>\n",
       "    </tr>\n",
       "    <tr>\n",
       "      <th>Name</th>\n",
       "      <th></th>\n",
       "      <th></th>\n",
       "      <th></th>\n",
       "      <th></th>\n",
       "      <th></th>\n",
       "    </tr>\n",
       "  </thead>\n",
       "  <tbody>\n",
       "    <tr>\n",
       "      <th>All</th>\n",
       "      <td>19.191599</td>\n",
       "      <td>8.061969</td>\n",
       "      <td>11.12963</td>\n",
       "      <td>6.824586</td>\n",
       "      <td>1.237384</td>\n",
       "    </tr>\n",
       "  </tbody>\n",
       "</table>\n",
       "</div>"
      ],
      "text/plain": [
       "           H_Ux      H_Px  DeltaH_Px      D_Px     VI_Px\n",
       "Name                                                    \n",
       "All   19.191599  8.061969   11.12963  6.824586  1.237384"
      ]
     },
     "execution_count": 89,
     "metadata": {},
     "output_type": "execute_result"
    }
   ],
   "source": [
    "edf"
   ]
  },
  {
   "cell_type": "code",
   "execution_count": 90,
   "metadata": {},
   "outputs": [],
   "source": [
    "derivedSplitSmetCoords = [\"DeltaH_Pxi\", \"M_Pxi\", \"VI_Pxi\", \"Name\"] #multivariate entropic coordinates\n",
    "# Note that, strictly speaking, VI_Pxi is not derived\n",
    "\n",
    "#' Caracterization of the variables in a DataFrame Variables of aggregated entropies\n",
    "\n",
    "aggregateSmetCoords= [\"H_Ux\", \"DeltaH_Px\", \"M_Px\", \"VI_Px\"] #source multivariate aggregate coordinates\n",
    "dualAggregateSmetCoords= [\"H_Ux\", \"DeltaH_Px\", \"D_Px\", \"VI_Px\"] # SMET coords without C_P_X\n",
    "\n",
    "#' Caracterization of the variables in a DataFrame of Channel Multivariate Entropies\n",
    "cmetEntropicCoords = [\"HU\", \"HP\", \"DeltaH_P\", \"M_P\", \"VI_P\"]\n",
    "\n",
    "\n",
    "\n",
    "#' Functions to detect SMET coordinates\n",
    "\n",
    "def hasSplitSmetCoords(df):\n",
    "\t'''\n",
    "\tA function to detect if the source multivariate split entropies are present: this enables working out the multivariate split entropic coordinates\n",
    "\tFunction -> sentropies_df(type = total)\n",
    "\tsplitSmetCoords  = [\"Name\", \"H_Uxi\", \"H_Pxi\", \"VI_Pxi\"] # multivariate split entropies\n",
    "\t\n",
    "\t@param -> DataFrame with entropic values\n",
    "\t@return -> boolean (true or false)\n",
    "\t'''\n",
    "\treturn all(df.columns.isin(derivedSplitSmetCoords))\n",
    "\n",
    "\n",
    "\n",
    "\n",
    "def hasAggregateSmetCoords(df):\t\n",
    "\t\n",
    "\t'''\n",
    "\tSMET\n",
    "\tA function to detect if the source multivariate aggregate entropic coordinates are present\n",
    "\tFunction -> sentropies_df(type = 'total') SUM\n",
    "\taggregateSmetCoords= [\"H_Ux\", \"DeltaH_Px\", \"M_Px\", \"VI_Px\"] #source multivariate aggregate coordinates\n",
    "\n",
    "\t@param -> DataFrame with entropic values\n",
    "\t@return -> boolean (true or false)\n",
    "\n",
    "\t'''\n",
    "\treturn all(df.columns.isin(aggregateSmetCoords))\n",
    "\n",
    "\n",
    "def hasDualAggregateSmetCoords(df):\n",
    "\t\n",
    "\t'''\n",
    "\tSMET\n",
    "\tA function to detect if the source multivariate aggregate entropic coordinates are present\n",
    "\tFunction -> sentropies_df(type = 'dual')\n",
    "\tdualAggregateSmetCoords= [\"H_Ux\", \"DeltaH_Px\", \"D_Px\", \"VI_Px\"] # SMET coords without C_P_X\n",
    "\n",
    "\t@param -> DataFrame with entropic values\n",
    "\t@return -> boolean (true or false)\n",
    "\n",
    "\t'''\n",
    "\treturn all(df.columns.isin(dualAggregateSmetCoords))\n",
    "\n",
    "\n",
    "#' Functions to detect CMET coordinates\n",
    "\n",
    "def hasCmetEntropicCoords(df):\n",
    "\t\n",
    "\t'''\n",
    "\tCMET\n",
    "\tA function to detect if the the channel multivariate entropic coordinates are present\n",
    "\tFunction -> jentropies_df\n",
    "\tcmetEntropicCoords = [\"H_U\", \"H_P\", \"VI_P\", \"DeltaH_P\", \"M_P\"]\n",
    "\n",
    "\t@param -> DataFrame with entropic values\n",
    "\t@return -> boolean (true or false)\n",
    "\n",
    "\t'''\n",
    "\treturn all(df.columns.isin(cmetEntropicCoords))"
   ]
  },
  {
   "cell_type": "code",
   "execution_count": 91,
   "metadata": {},
   "outputs": [
    {
     "data": {
      "text/plain": [
       "False"
      ]
     },
     "execution_count": 91,
     "metadata": {},
     "output_type": "execute_result"
    }
   ],
   "source": [
    "hasAggregateSmetCoords(edf)"
   ]
  },
  {
   "cell_type": "code",
   "execution_count": 92,
   "metadata": {},
   "outputs": [
    {
     "data": {
      "text/html": [
       "<div>\n",
       "<style scoped>\n",
       "    .dataframe tbody tr th:only-of-type {\n",
       "        vertical-align: middle;\n",
       "    }\n",
       "\n",
       "    .dataframe tbody tr th {\n",
       "        vertical-align: top;\n",
       "    }\n",
       "\n",
       "    .dataframe thead th {\n",
       "        text-align: right;\n",
       "    }\n",
       "</style>\n",
       "<table border=\"1\" class=\"dataframe\">\n",
       "  <thead>\n",
       "    <tr style=\"text-align: right;\">\n",
       "      <th></th>\n",
       "      <th>H_Ux</th>\n",
       "      <th>H_Px</th>\n",
       "      <th>DeltaH_Px</th>\n",
       "      <th>D_Px</th>\n",
       "      <th>VI_Px</th>\n",
       "    </tr>\n",
       "    <tr>\n",
       "      <th>Name</th>\n",
       "      <th></th>\n",
       "      <th></th>\n",
       "      <th></th>\n",
       "      <th></th>\n",
       "      <th></th>\n",
       "    </tr>\n",
       "  </thead>\n",
       "  <tbody>\n",
       "    <tr>\n",
       "      <th>All</th>\n",
       "      <td>19.191599</td>\n",
       "      <td>8.061969</td>\n",
       "      <td>11.12963</td>\n",
       "      <td>6.824586</td>\n",
       "      <td>1.237384</td>\n",
       "    </tr>\n",
       "  </tbody>\n",
       "</table>\n",
       "</div>"
      ],
      "text/plain": [
       "           H_Ux      H_Px  DeltaH_Px      D_Px     VI_Px\n",
       "Name                                                    \n",
       "All   19.191599  8.061969   11.12963  6.824586  1.237384"
      ]
     },
     "execution_count": 92,
     "metadata": {},
     "output_type": "execute_result"
    }
   ],
   "source": [
    "edf"
   ]
  },
  {
   "cell_type": "code",
   "execution_count": 93,
   "metadata": {},
   "outputs": [
    {
     "data": {
      "text/plain": [
       "['H_Ux', 'DeltaH_Px', 'M_Px', 'VI_Px']"
      ]
     },
     "execution_count": 93,
     "metadata": {},
     "output_type": "execute_result"
    }
   ],
   "source": [
    "aggregateSmetCoords"
   ]
  },
  {
   "cell_type": "code",
   "execution_count": 97,
   "metadata": {},
   "outputs": [],
   "source": [
    "a = edf.columns.isin(dualAggregateSmetCoords)"
   ]
  },
  {
   "cell_type": "code",
   "execution_count": 101,
   "metadata": {},
   "outputs": [
    {
     "name": "stdout",
     "output_type": "stream",
     "text": [
      "true\n"
     ]
    }
   ],
   "source": [
    "if(edf.columns.isin(dualAggregateSmetCoords).sum() == len(dualAggregateSmetCoords)):\n",
    "    print('true')\n",
    "else: \n",
    "    print('false')"
   ]
  }
 ],
 "metadata": {
  "kernelspec": {
   "display_name": "Python 3",
   "language": "python",
   "name": "python3"
  },
  "language_info": {
   "codemirror_mode": {
    "name": "ipython",
    "version": 3
   },
   "file_extension": ".py",
   "mimetype": "text/x-python",
   "name": "python",
   "nbconvert_exporter": "python",
   "pygments_lexer": "ipython3",
   "version": "3.6.5"
  }
 },
 "nbformat": 4,
 "nbformat_minor": 2
}
