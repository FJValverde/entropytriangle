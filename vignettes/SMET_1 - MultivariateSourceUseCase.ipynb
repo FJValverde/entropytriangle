{
 "cells": [
  {
   "cell_type": "markdown",
   "metadata": {},
   "source": [
    "# Multivariate Source Use Case (Single DataFrameCase)"
   ]
  },
  {
   "cell_type": "markdown",
   "metadata": {},
   "source": [
    "In this vignette I will represent a use case of the Source Multivariate Entropy Triangle with some individual Databases"
   ]
  },
  {
   "cell_type": "markdown",
   "metadata": {},
   "source": [
    "### Importing Libraries"
   ]
  },
  {
   "cell_type": "markdown",
   "metadata": {},
   "source": [
    "As the functions for the entopies measures are stored in other domain, first we will need to access those modules with the functions and the import all the necessary functions"
   ]
  },
  {
   "cell_type": "code",
   "execution_count": 1,
   "metadata": {},
   "outputs": [],
   "source": [
    "# Bring your packages onto the path\n",
    "import sys,os\n",
    "sys.path.append(os.path.abspath(os.path.join('..'))) #'entropytriangle main directory"
   ]
  },
  {
   "cell_type": "code",
   "execution_count": 2,
   "metadata": {},
   "outputs": [],
   "source": [
    "from entropytriangle import * #importing all modules necessary for the plotting"
   ]
  },
  {
   "cell_type": "markdown",
   "metadata": {},
   "source": [
    "### Dowloading a set of Databases"
   ]
  },
  {
   "cell_type": "code",
   "execution_count": 6,
   "metadata": {},
   "outputs": [],
   "source": [
    "df = pd.read_csv('Arthritis.csv',delimiter=',',index_col='Unnamed: 0')\n",
    "#df = pd.read_csv('Breast_data.csv',delimiter=',',index_col='Unnamed: 0').drop(['Sample code number'],axis = 1).replace('?',np.nan) # in this DB the missing values are represented as '?' \n",
    "#df = pd.read_csv('Glass.csv',delimiter=',')\n",
    "#df = pd.read_csv('Ionosphere.csv',delimiter=',')\n",
    "#df = pd.read_csv('Iris.csv',delimiter=',',index_col='Id')\n",
    "#df = pd.read_csv('Wine.csv',delimiter=',').drop(['Wine'],axis = 1)"
   ]
  },
  {
   "cell_type": "code",
   "execution_count": 7,
   "metadata": {},
   "outputs": [
    {
     "name": "stdout",
     "output_type": "stream",
     "text": [
      "<class 'pandas.core.frame.DataFrame'>\n",
      "Int64Index: 84 entries, 1 to 84\n",
      "Data columns (total 5 columns):\n",
      "ID           84 non-null int64\n",
      "Treatment    84 non-null object\n",
      "Sex          84 non-null object\n",
      "Age          84 non-null int64\n",
      "Improved     84 non-null object\n",
      "dtypes: int64(2), object(3)\n",
      "memory usage: 3.9+ KB\n"
     ]
    }
   ],
   "source": [
    "df.info(verbose=True)"
   ]
  },
  {
   "cell_type": "code",
   "execution_count": 8,
   "metadata": {},
   "outputs": [
    {
     "data": {
      "text/html": [
       "<div>\n",
       "<style scoped>\n",
       "    .dataframe tbody tr th:only-of-type {\n",
       "        vertical-align: middle;\n",
       "    }\n",
       "\n",
       "    .dataframe tbody tr th {\n",
       "        vertical-align: top;\n",
       "    }\n",
       "\n",
       "    .dataframe thead th {\n",
       "        text-align: right;\n",
       "    }\n",
       "</style>\n",
       "<table border=\"1\" class=\"dataframe\">\n",
       "  <thead>\n",
       "    <tr style=\"text-align: right;\">\n",
       "      <th></th>\n",
       "      <th>ID</th>\n",
       "      <th>Treatment</th>\n",
       "      <th>Sex</th>\n",
       "      <th>Age</th>\n",
       "      <th>Improved</th>\n",
       "    </tr>\n",
       "  </thead>\n",
       "  <tbody>\n",
       "    <tr>\n",
       "      <th>1</th>\n",
       "      <td>57</td>\n",
       "      <td>Treated</td>\n",
       "      <td>Male</td>\n",
       "      <td>27</td>\n",
       "      <td>Some</td>\n",
       "    </tr>\n",
       "    <tr>\n",
       "      <th>2</th>\n",
       "      <td>46</td>\n",
       "      <td>Treated</td>\n",
       "      <td>Male</td>\n",
       "      <td>29</td>\n",
       "      <td>None</td>\n",
       "    </tr>\n",
       "    <tr>\n",
       "      <th>3</th>\n",
       "      <td>77</td>\n",
       "      <td>Treated</td>\n",
       "      <td>Male</td>\n",
       "      <td>30</td>\n",
       "      <td>None</td>\n",
       "    </tr>\n",
       "    <tr>\n",
       "      <th>4</th>\n",
       "      <td>17</td>\n",
       "      <td>Treated</td>\n",
       "      <td>Male</td>\n",
       "      <td>32</td>\n",
       "      <td>Marked</td>\n",
       "    </tr>\n",
       "    <tr>\n",
       "      <th>5</th>\n",
       "      <td>36</td>\n",
       "      <td>Treated</td>\n",
       "      <td>Male</td>\n",
       "      <td>46</td>\n",
       "      <td>Marked</td>\n",
       "    </tr>\n",
       "    <tr>\n",
       "      <th>6</th>\n",
       "      <td>23</td>\n",
       "      <td>Treated</td>\n",
       "      <td>Male</td>\n",
       "      <td>58</td>\n",
       "      <td>Marked</td>\n",
       "    </tr>\n",
       "    <tr>\n",
       "      <th>7</th>\n",
       "      <td>75</td>\n",
       "      <td>Treated</td>\n",
       "      <td>Male</td>\n",
       "      <td>59</td>\n",
       "      <td>None</td>\n",
       "    </tr>\n",
       "    <tr>\n",
       "      <th>8</th>\n",
       "      <td>39</td>\n",
       "      <td>Treated</td>\n",
       "      <td>Male</td>\n",
       "      <td>59</td>\n",
       "      <td>Marked</td>\n",
       "    </tr>\n",
       "    <tr>\n",
       "      <th>9</th>\n",
       "      <td>33</td>\n",
       "      <td>Treated</td>\n",
       "      <td>Male</td>\n",
       "      <td>63</td>\n",
       "      <td>None</td>\n",
       "    </tr>\n",
       "    <tr>\n",
       "      <th>10</th>\n",
       "      <td>55</td>\n",
       "      <td>Treated</td>\n",
       "      <td>Male</td>\n",
       "      <td>63</td>\n",
       "      <td>None</td>\n",
       "    </tr>\n",
       "  </tbody>\n",
       "</table>\n",
       "</div>"
      ],
      "text/plain": [
       "    ID Treatment   Sex  Age Improved\n",
       "1   57   Treated  Male   27     Some\n",
       "2   46   Treated  Male   29     None\n",
       "3   77   Treated  Male   30     None\n",
       "4   17   Treated  Male   32   Marked\n",
       "5   36   Treated  Male   46   Marked\n",
       "6   23   Treated  Male   58   Marked\n",
       "7   75   Treated  Male   59     None\n",
       "8   39   Treated  Male   59   Marked\n",
       "9   33   Treated  Male   63     None\n",
       "10  55   Treated  Male   63     None"
      ]
     },
     "execution_count": 8,
     "metadata": {},
     "output_type": "execute_result"
    }
   ],
   "source": [
    "df.head(10)"
   ]
  },
  {
   "cell_type": "markdown",
   "metadata": {},
   "source": [
    "### Discretizing the Data before entropy calculation"
   ]
  },
  {
   "cell_type": "markdown",
   "metadata": {},
   "source": [
    "We have defined a function for discretizing a hole dataset, the function divides de entries in \n",
    "\"NROWS(DF)^(1/3)\" equally sized spaces, and turn the data types in \"categories\""
   ]
  },
  {
   "cell_type": "code",
   "execution_count": 9,
   "metadata": {},
   "outputs": [
    {
     "name": "stderr",
     "output_type": "stream",
     "text": [
      "/Users/jaime.de.los.rios/Documents/GitHub/entropytriangle/entropytriangle/auxfunc.py:37: UserWarning: Discretizing data!\n",
      "  warning(\"Discretizing data!\")\n"
     ]
    }
   ],
   "source": [
    "df = discretization(df)"
   ]
  },
  {
   "cell_type": "code",
   "execution_count": 10,
   "metadata": {},
   "outputs": [
    {
     "name": "stdout",
     "output_type": "stream",
     "text": [
      "<class 'pandas.core.frame.DataFrame'>\n",
      "Int64Index: 84 entries, 1 to 84\n",
      "Data columns (total 5 columns):\n",
      "ID           84 non-null category\n",
      "Treatment    84 non-null category\n",
      "Sex          84 non-null category\n",
      "Age          84 non-null category\n",
      "Improved     84 non-null category\n",
      "dtypes: category(5)\n",
      "memory usage: 1.7 KB\n"
     ]
    }
   ],
   "source": [
    "df.info()"
   ]
  },
  {
   "cell_type": "code",
   "execution_count": 11,
   "metadata": {},
   "outputs": [
    {
     "data": {
      "text/html": [
       "<div>\n",
       "<style scoped>\n",
       "    .dataframe tbody tr th:only-of-type {\n",
       "        vertical-align: middle;\n",
       "    }\n",
       "\n",
       "    .dataframe tbody tr th {\n",
       "        vertical-align: top;\n",
       "    }\n",
       "\n",
       "    .dataframe thead th {\n",
       "        text-align: right;\n",
       "    }\n",
       "</style>\n",
       "<table border=\"1\" class=\"dataframe\">\n",
       "  <thead>\n",
       "    <tr style=\"text-align: right;\">\n",
       "      <th></th>\n",
       "      <th>ID</th>\n",
       "      <th>Treatment</th>\n",
       "      <th>Sex</th>\n",
       "      <th>Age</th>\n",
       "      <th>Improved</th>\n",
       "    </tr>\n",
       "  </thead>\n",
       "  <tbody>\n",
       "    <tr>\n",
       "      <th>1</th>\n",
       "      <td>2</td>\n",
       "      <td>1</td>\n",
       "      <td>1</td>\n",
       "      <td>0</td>\n",
       "      <td>2</td>\n",
       "    </tr>\n",
       "    <tr>\n",
       "      <th>2</th>\n",
       "      <td>2</td>\n",
       "      <td>1</td>\n",
       "      <td>1</td>\n",
       "      <td>0</td>\n",
       "      <td>1</td>\n",
       "    </tr>\n",
       "    <tr>\n",
       "      <th>3</th>\n",
       "      <td>3</td>\n",
       "      <td>1</td>\n",
       "      <td>1</td>\n",
       "      <td>0</td>\n",
       "      <td>1</td>\n",
       "    </tr>\n",
       "    <tr>\n",
       "      <th>4</th>\n",
       "      <td>0</td>\n",
       "      <td>1</td>\n",
       "      <td>1</td>\n",
       "      <td>0</td>\n",
       "      <td>0</td>\n",
       "    </tr>\n",
       "    <tr>\n",
       "      <th>5</th>\n",
       "      <td>1</td>\n",
       "      <td>1</td>\n",
       "      <td>1</td>\n",
       "      <td>1</td>\n",
       "      <td>0</td>\n",
       "    </tr>\n",
       "    <tr>\n",
       "      <th>6</th>\n",
       "      <td>1</td>\n",
       "      <td>1</td>\n",
       "      <td>1</td>\n",
       "      <td>2</td>\n",
       "      <td>0</td>\n",
       "    </tr>\n",
       "    <tr>\n",
       "      <th>7</th>\n",
       "      <td>3</td>\n",
       "      <td>1</td>\n",
       "      <td>1</td>\n",
       "      <td>2</td>\n",
       "      <td>1</td>\n",
       "    </tr>\n",
       "    <tr>\n",
       "      <th>8</th>\n",
       "      <td>1</td>\n",
       "      <td>1</td>\n",
       "      <td>1</td>\n",
       "      <td>2</td>\n",
       "      <td>0</td>\n",
       "    </tr>\n",
       "    <tr>\n",
       "      <th>9</th>\n",
       "      <td>1</td>\n",
       "      <td>1</td>\n",
       "      <td>1</td>\n",
       "      <td>3</td>\n",
       "      <td>1</td>\n",
       "    </tr>\n",
       "    <tr>\n",
       "      <th>10</th>\n",
       "      <td>2</td>\n",
       "      <td>1</td>\n",
       "      <td>1</td>\n",
       "      <td>3</td>\n",
       "      <td>1</td>\n",
       "    </tr>\n",
       "  </tbody>\n",
       "</table>\n",
       "</div>"
      ],
      "text/plain": [
       "   ID Treatment Sex Age Improved\n",
       "1   2         1   1   0        2\n",
       "2   2         1   1   0        1\n",
       "3   3         1   1   0        1\n",
       "4   0         1   1   0        0\n",
       "5   1         1   1   1        0\n",
       "6   1         1   1   2        0\n",
       "7   3         1   1   2        1\n",
       "8   1         1   1   2        0\n",
       "9   1         1   1   3        1\n",
       "10  2         1   1   3        1"
      ]
     },
     "execution_count": 11,
     "metadata": {},
     "output_type": "execute_result"
    }
   ],
   "source": [
    "df.head(10)"
   ]
  },
  {
   "cell_type": "markdown",
   "metadata": {},
   "source": [
    "### Source Entropies Measures calculation"
   ]
  },
  {
   "cell_type": "markdown",
   "metadata": {},
   "source": [
    "Once we have our data discretized, we will start by calculating the values of the entropies for the posterior plots "
   ]
  },
  {
   "cell_type": "code",
   "execution_count": 12,
   "metadata": {},
   "outputs": [],
   "source": [
    "'''\n",
    "As the database is previosly discretized we won´t need the values of the bins\n",
    "'Type variable select the entropy calculation:'\n",
    "    Total: Total source entropy decomposition (CPx)\n",
    "    Dual : Dual source entropy decomposition (DPx instead of CPx)\n",
    "'''\n",
    "\n",
    "edf = sentropies(df , type = 'total' , base = 2) "
   ]
  },
  {
   "cell_type": "code",
   "execution_count": 13,
   "metadata": {},
   "outputs": [
    {
     "data": {
      "text/html": [
       "<div>\n",
       "<style scoped>\n",
       "    .dataframe tbody tr th:only-of-type {\n",
       "        vertical-align: middle;\n",
       "    }\n",
       "\n",
       "    .dataframe tbody tr th {\n",
       "        vertical-align: top;\n",
       "    }\n",
       "\n",
       "    .dataframe thead th {\n",
       "        text-align: right;\n",
       "    }\n",
       "</style>\n",
       "<table border=\"1\" class=\"dataframe\">\n",
       "  <thead>\n",
       "    <tr style=\"text-align: right;\">\n",
       "      <th></th>\n",
       "      <th>H_Uxi</th>\n",
       "      <th>H_Pxi</th>\n",
       "      <th>DeltaH_Pxi</th>\n",
       "      <th>M_Pxi</th>\n",
       "      <th>VI_Pxi</th>\n",
       "    </tr>\n",
       "    <tr>\n",
       "      <th>Name</th>\n",
       "      <th></th>\n",
       "      <th></th>\n",
       "      <th></th>\n",
       "      <th></th>\n",
       "      <th></th>\n",
       "    </tr>\n",
       "  </thead>\n",
       "  <tbody>\n",
       "    <tr>\n",
       "      <th>ID</th>\n",
       "      <td>2.000000</td>\n",
       "      <td>2.000000</td>\n",
       "      <td>0.000000</td>\n",
       "      <td>0.886905</td>\n",
       "      <td>1.113095</td>\n",
       "    </tr>\n",
       "    <tr>\n",
       "      <th>Treatment</th>\n",
       "      <td>1.000000</td>\n",
       "      <td>0.999591</td>\n",
       "      <td>0.000409</td>\n",
       "      <td>0.615488</td>\n",
       "      <td>0.384103</td>\n",
       "    </tr>\n",
       "    <tr>\n",
       "      <th>Sex</th>\n",
       "      <td>1.000000</td>\n",
       "      <td>0.878361</td>\n",
       "      <td>0.121639</td>\n",
       "      <td>0.531701</td>\n",
       "      <td>0.346660</td>\n",
       "    </tr>\n",
       "    <tr>\n",
       "      <th>Age</th>\n",
       "      <td>2.000000</td>\n",
       "      <td>1.870869</td>\n",
       "      <td>0.129131</td>\n",
       "      <td>0.944409</td>\n",
       "      <td>0.926460</td>\n",
       "    </tr>\n",
       "    <tr>\n",
       "      <th>Improved</th>\n",
       "      <td>1.584963</td>\n",
       "      <td>1.459148</td>\n",
       "      <td>0.125815</td>\n",
       "      <td>1.006767</td>\n",
       "      <td>0.452381</td>\n",
       "    </tr>\n",
       "    <tr>\n",
       "      <th>AGGREGATE</th>\n",
       "      <td>7.584963</td>\n",
       "      <td>7.207968</td>\n",
       "      <td>0.376994</td>\n",
       "      <td>3.985270</td>\n",
       "      <td>3.222698</td>\n",
       "    </tr>\n",
       "  </tbody>\n",
       "</table>\n",
       "</div>"
      ],
      "text/plain": [
       "              H_Uxi     H_Pxi  DeltaH_Pxi     M_Pxi    VI_Pxi\n",
       "Name                                                         \n",
       "ID         2.000000  2.000000    0.000000  0.886905  1.113095\n",
       "Treatment  1.000000  0.999591    0.000409  0.615488  0.384103\n",
       "Sex        1.000000  0.878361    0.121639  0.531701  0.346660\n",
       "Age        2.000000  1.870869    0.129131  0.944409  0.926460\n",
       "Improved   1.584963  1.459148    0.125815  1.006767  0.452381\n",
       "AGGREGATE  7.584963  7.207968    0.376994  3.985270  3.222698"
      ]
     },
     "execution_count": 13,
     "metadata": {},
     "output_type": "execute_result"
    }
   ],
   "source": [
    "edf"
   ]
  },
  {
   "cell_type": "markdown",
   "metadata": {},
   "source": [
    "### Source Entropies Entropy Triangle Plotting"
   ]
  },
  {
   "cell_type": "markdown",
   "metadata": {},
   "source": [
    "The last step will be plotting the values calculated previously. The coordinates will be calculated multiplying the normalized values needed by the scale used for plotting the triangle, and will appear behind the triangle plot for comparission"
   ]
  },
  {
   "cell_type": "code",
   "execution_count": 14,
   "metadata": {},
   "outputs": [
    {
     "data": {
      "image/png": "[encoded data removed]",
      "text/plain": [
       "<Figure size 1080x1080 with 1 Axes>"
      ]
     },
     "metadata": {},
     "output_type": "display_data"
    },
    {
     "data": {
      "text/plain": [
       "[array([ 0.        , 44.34526435, 55.65473565]),\n",
       " array([4.08965811e-02, 6.15487909e+01, 3.84103125e+01]),\n",
       " array([12.16390612, 53.17012307, 34.66597081]),\n",
       " array([ 6.45657229, 47.22042778, 46.32299993]),\n",
       " array([ 7.93801643, 63.51992329, 28.54206028]),\n",
       " array([ 4.9702824 , 52.54172248, 42.48799512])]"
      ]
     },
     "execution_count": 14,
     "metadata": {},
     "output_type": "execute_result"
    }
   ],
   "source": [
    "etplot(edf,s_mk=170, pltscale=15 , gridl = 20)"
   ]
  },
  {
   "cell_type": "code",
   "execution_count": null,
   "metadata": {},
   "outputs": [],
   "source": []
  }
 ],
 "metadata": {
  "kernelspec": {
   "display_name": "Python 3",
   "language": "python",
   "name": "python3"
  },
  "language_info": {
   "codemirror_mode": {
    "name": "ipython",
    "version": 3
   },
   "file_extension": ".py",
   "mimetype": "text/x-python",
   "name": "python",
   "nbconvert_exporter": "python",
   "pygments_lexer": "ipython3",
   "version": "3.6.5"
  }
 },
 "nbformat": 4,
 "nbformat_minor": 2
}
