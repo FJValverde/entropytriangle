{
 "cells": [
  {
   "cell_type": "code",
   "execution_count": 1,
   "metadata": {},
   "outputs": [],
   "source": [
    "import numpy as np\n",
    "import pandas as pd\n",
    "import scipy as sc\n",
    "from auxfunc import *"
   ]
  },
  {
   "cell_type": "code",
   "execution_count": 2,
   "metadata": {},
   "outputs": [],
   "source": [
    "Nxy = np.arange(1,82).reshape(3,3,3,3)"
   ]
  },
  {
   "cell_type": "code",
   "execution_count": 3,
   "metadata": {},
   "outputs": [],
   "source": [
    "Nx = Nxy.sum(axis = 2)\n",
    "#squared = list(map(lambda x: sc.entropy(x, base = 2), Nx))\n",
    "Nx.shape[-3]\n",
    "a = [ 1,  2,  3,  4,  5,  6,  7,  8,  9]"
   ]
  },
  {
   "cell_type": "code",
   "execution_count": 4,
   "metadata": {},
   "outputs": [],
   "source": [
    "Nxy = np.arange(1,82).reshape(3,3,3,3)\n",
    "dims = Nxy.shape\n",
    "\n",
    "Nx = Nxy.sum(axis = len(dims)-2)\n",
    "Nx = Nx.transpose(np.append(np.arange(0,len(Nx.shape)-2),[-1,-2]))\n",
    "Hx = list(map(lambda x: sc.entropy(x, base = 2), Nx))\n",
    "Hx = np.append(Hx,[])\n",
    "Ux = np.array([np.log2(dims[0])]*len(Hx))\n",
    "\n",
    "\n",
    "Ny = Nxy.sum(axis = len(dims)-1)\n",
    "Ny = Ny.transpose(np.append(np.arange(0,len(Nx.shape)-2),[-1,-2]))\n",
    "Hy = list(map(lambda x: sc.entropy(x, base = 2), Ny))\n",
    "Hy = np.append(Hy,[])\n",
    "Uy = np.array([np.log2(dims[0])]*len(Hy))\n",
    "\n",
    "Nxy = Nxy.reshape(np.product(dims[0:-2]),np.product([dims[-2],dims[-1]]))\n",
    "\n",
    "Hxy = sc.entropy(Nxy.reshape(np.product(dims[0:-2]),np.product([dims[-2],dims[-1]])) , base = 2) \n",
    "df = pd.DataFrame({'Ux': Ux,'Uy': Uy,'Hx': Hx,'Hy': Hy, 'Hxy': Hxy})"
   ]
  },
  {
   "cell_type": "code",
   "execution_count": 5,
   "metadata": {},
   "outputs": [],
   "source": [
    "df = pd.DataFrame({'Ux': Ux,'Uy': Uy,'Hx': Hx,'Hy': Hy, 'Hxy': Hxy})"
   ]
  },
  {
   "cell_type": "code",
   "execution_count": 6,
   "metadata": {},
   "outputs": [
    {
     "data": {
      "text/html": [
       "<div>\n",
       "<style scoped>\n",
       "    .dataframe tbody tr th:only-of-type {\n",
       "        vertical-align: middle;\n",
       "    }\n",
       "\n",
       "    .dataframe tbody tr th {\n",
       "        vertical-align: top;\n",
       "    }\n",
       "\n",
       "    .dataframe thead th {\n",
       "        text-align: right;\n",
       "    }\n",
       "</style>\n",
       "<table border=\"1\" class=\"dataframe\">\n",
       "  <thead>\n",
       "    <tr style=\"text-align: right;\">\n",
       "      <th></th>\n",
       "      <th>Ux</th>\n",
       "      <th>Uy</th>\n",
       "      <th>Hx</th>\n",
       "      <th>Hy</th>\n",
       "      <th>Hxy</th>\n",
       "    </tr>\n",
       "  </thead>\n",
       "  <tbody>\n",
       "    <tr>\n",
       "      <th>0</th>\n",
       "      <td>1.584963</td>\n",
       "      <td>1.584963</td>\n",
       "      <td>1.565596</td>\n",
       "      <td>1.399581</td>\n",
       "      <td>2.826221</td>\n",
       "    </tr>\n",
       "    <tr>\n",
       "      <th>1</th>\n",
       "      <td>1.584963</td>\n",
       "      <td>1.584963</td>\n",
       "      <td>1.582507</td>\n",
       "      <td>1.562708</td>\n",
       "      <td>2.850525</td>\n",
       "    </tr>\n",
       "    <tr>\n",
       "      <th>2</th>\n",
       "      <td>1.584963</td>\n",
       "      <td>1.584963</td>\n",
       "      <td>1.584053</td>\n",
       "      <td>1.576758</td>\n",
       "      <td>2.871296</td>\n",
       "    </tr>\n",
       "    <tr>\n",
       "      <th>3</th>\n",
       "      <td>1.584963</td>\n",
       "      <td>1.584963</td>\n",
       "      <td>1.584493</td>\n",
       "      <td>1.580730</td>\n",
       "      <td>2.889563</td>\n",
       "    </tr>\n",
       "    <tr>\n",
       "      <th>4</th>\n",
       "      <td>1.584963</td>\n",
       "      <td>1.584963</td>\n",
       "      <td>1.584676</td>\n",
       "      <td>1.582385</td>\n",
       "      <td>2.905870</td>\n",
       "    </tr>\n",
       "    <tr>\n",
       "      <th>5</th>\n",
       "      <td>1.584963</td>\n",
       "      <td>1.584963</td>\n",
       "      <td>1.584770</td>\n",
       "      <td>1.583230</td>\n",
       "      <td>2.920572</td>\n",
       "    </tr>\n",
       "    <tr>\n",
       "      <th>6</th>\n",
       "      <td>1.584963</td>\n",
       "      <td>1.584963</td>\n",
       "      <td>1.584824</td>\n",
       "      <td>1.583719</td>\n",
       "      <td>2.933923</td>\n",
       "    </tr>\n",
       "    <tr>\n",
       "      <th>7</th>\n",
       "      <td>1.584963</td>\n",
       "      <td>1.584963</td>\n",
       "      <td>1.584858</td>\n",
       "      <td>1.584026</td>\n",
       "      <td>2.946113</td>\n",
       "    </tr>\n",
       "    <tr>\n",
       "      <th>8</th>\n",
       "      <td>1.584963</td>\n",
       "      <td>1.584963</td>\n",
       "      <td>1.584881</td>\n",
       "      <td>1.584232</td>\n",
       "      <td>2.957295</td>\n",
       "    </tr>\n",
       "  </tbody>\n",
       "</table>\n",
       "</div>"
      ],
      "text/plain": [
       "         Ux        Uy        Hx        Hy       Hxy\n",
       "0  1.584963  1.584963  1.565596  1.399581  2.826221\n",
       "1  1.584963  1.584963  1.582507  1.562708  2.850525\n",
       "2  1.584963  1.584963  1.584053  1.576758  2.871296\n",
       "3  1.584963  1.584963  1.584493  1.580730  2.889563\n",
       "4  1.584963  1.584963  1.584676  1.582385  2.905870\n",
       "5  1.584963  1.584963  1.584770  1.583230  2.920572\n",
       "6  1.584963  1.584963  1.584824  1.583719  2.933923\n",
       "7  1.584963  1.584963  1.584858  1.584026  2.946113\n",
       "8  1.584963  1.584963  1.584881  1.584232  2.957295"
      ]
     },
     "execution_count": 6,
     "metadata": {},
     "output_type": "execute_result"
    }
   ],
   "source": [
    "df"
   ]
  },
  {
   "cell_type": "code",
   "execution_count": 7,
   "metadata": {},
   "outputs": [
    {
     "data": {
      "text/plain": [
       "array([2.82622088, 2.85052499, 2.8712963 , 2.88956263, 2.90587009,\n",
       "       2.92057242, 2.93392272, 2.94611307, 2.95729504])"
      ]
     },
     "execution_count": 7,
     "metadata": {},
     "output_type": "execute_result"
    }
   ],
   "source": [
    "Hxy"
   ]
  },
  {
   "cell_type": "code",
   "execution_count": 184,
   "metadata": {},
   "outputs": [],
   "source": [
    "df = pd.read_excel('titanic.xlsx')"
   ]
  },
  {
   "cell_type": "code",
   "execution_count": 185,
   "metadata": {},
   "outputs": [
    {
     "name": "stderr",
     "output_type": "stream",
     "text": [
      "/Users/jaime.de.los.rios/Documents/Jupyter Prueba Fran/auxfunc.py:28: UserWarning: Discretizing data!\n",
      "  warnings.warn(\"Discretizing data!\")\n",
      "/Users/jaime.de.los.rios/Documents/Jupyter Prueba Fran/auxfunc.py:52: FutureWarning: Method .as_matrix will be removed in a future version. Use .values instead.\n",
      "  matrix = m.as_matrix().reshape(dims)\n"
     ]
    }
   ],
   "source": [
    "df1 = df2matrix(df)"
   ]
  },
  {
   "cell_type": "code",
   "execution_count": 23,
   "metadata": {
    "scrolled": true
   },
   "outputs": [],
   "source": [
    "Nxy = df1"
   ]
  },
  {
   "cell_type": "code",
   "execution_count": 59,
   "metadata": {},
   "outputs": [],
   "source": [
    "Nx = Nxy.sum(axis = len(dims)-2)"
   ]
  },
  {
   "cell_type": "code",
   "execution_count": 68,
   "metadata": {},
   "outputs": [
    {
     "name": "stderr",
     "output_type": "stream",
     "text": [
      "/Users/jaime.de.los.rios/Documents/Jupyter Prueba Fran/auxfunc.py:28: UserWarning: Discretizing data!\n",
      "  warnings.warn(\"Discretizing data!\")\n",
      "/Users/jaime.de.los.rios/anaconda3/lib/python3.6/site-packages/ipykernel_launcher.py:8: FutureWarning: Method .as_matrix will be removed in a future version. Use .values instead.\n",
      "  \n"
     ]
    }
   ],
   "source": [
    "df = discretization(df,5)\n",
    "li = list() ; dims = list() \n",
    "\n",
    "df.apply((lambda x : dims.append(len(pd.unique(x)))))\n",
    "for i in range(len(df.columns)):li.append(pd.Series(df[df.columns[i]]))\n",
    "\n",
    "m = pd.crosstab(index = li[0:len(li)-1], columns = li[len(li)-1], dropna= False)\n",
    "matrix = m.as_matrix().reshape(dims)\n"
   ]
  },
  {
   "cell_type": "code",
   "execution_count": 191,
   "metadata": {},
   "outputs": [],
   "source": [
    "edf = sentropies_ct(Nxy)"
   ]
  },
  {
   "cell_type": "code",
   "execution_count": 188,
   "metadata": {},
   "outputs": [],
   "source": [
    "Nxy = np.arange(1,82).reshape(3,3,3,3)"
   ]
  },
  {
   "cell_type": "code",
   "execution_count": 192,
   "metadata": {
    "scrolled": true
   },
   "outputs": [
    {
     "data": {
      "text/html": [
       "<div>\n",
       "<style scoped>\n",
       "    .dataframe tbody tr th:only-of-type {\n",
       "        vertical-align: middle;\n",
       "    }\n",
       "\n",
       "    .dataframe tbody tr th {\n",
       "        vertical-align: top;\n",
       "    }\n",
       "\n",
       "    .dataframe thead th {\n",
       "        text-align: right;\n",
       "    }\n",
       "</style>\n",
       "<table border=\"1\" class=\"dataframe\">\n",
       "  <thead>\n",
       "    <tr style=\"text-align: right;\">\n",
       "      <th></th>\n",
       "      <th>Ux</th>\n",
       "      <th>Hx</th>\n",
       "      <th>Uy</th>\n",
       "      <th>Hy</th>\n",
       "      <th>Hxy</th>\n",
       "    </tr>\n",
       "    <tr>\n",
       "      <th>Name</th>\n",
       "      <th></th>\n",
       "      <th></th>\n",
       "      <th></th>\n",
       "      <th></th>\n",
       "      <th></th>\n",
       "    </tr>\n",
       "  </thead>\n",
       "  <tbody>\n",
       "    <tr>\n",
       "      <th>0</th>\n",
       "      <td>1.584963</td>\n",
       "      <td>0.970116</td>\n",
       "      <td>1.584963</td>\n",
       "      <td>1.085189</td>\n",
       "      <td>2.049841</td>\n",
       "    </tr>\n",
       "    <tr>\n",
       "      <th>1</th>\n",
       "      <td>1.584963</td>\n",
       "      <td>1.083187</td>\n",
       "      <td>1.584963</td>\n",
       "      <td>1.096910</td>\n",
       "      <td>2.180042</td>\n",
       "    </tr>\n",
       "    <tr>\n",
       "      <th>2</th>\n",
       "      <td>1.584963</td>\n",
       "      <td>1.092925</td>\n",
       "      <td>1.584963</td>\n",
       "      <td>1.097982</td>\n",
       "      <td>2.190900</td>\n",
       "    </tr>\n",
       "    <tr>\n",
       "      <th>3</th>\n",
       "      <td>1.584963</td>\n",
       "      <td>1.095678</td>\n",
       "      <td>1.584963</td>\n",
       "      <td>1.098287</td>\n",
       "      <td>2.193963</td>\n",
       "    </tr>\n",
       "    <tr>\n",
       "      <th>4</th>\n",
       "      <td>1.584963</td>\n",
       "      <td>1.096826</td>\n",
       "      <td>1.584963</td>\n",
       "      <td>1.098414</td>\n",
       "      <td>2.195239</td>\n",
       "    </tr>\n",
       "    <tr>\n",
       "      <th>5</th>\n",
       "      <td>1.584963</td>\n",
       "      <td>1.097412</td>\n",
       "      <td>1.584963</td>\n",
       "      <td>1.098479</td>\n",
       "      <td>2.195890</td>\n",
       "    </tr>\n",
       "    <tr>\n",
       "      <th>6</th>\n",
       "      <td>1.584963</td>\n",
       "      <td>1.097750</td>\n",
       "      <td>1.584963</td>\n",
       "      <td>1.098517</td>\n",
       "      <td>2.196266</td>\n",
       "    </tr>\n",
       "    <tr>\n",
       "      <th>7</th>\n",
       "      <td>1.584963</td>\n",
       "      <td>1.097963</td>\n",
       "      <td>1.584963</td>\n",
       "      <td>1.098540</td>\n",
       "      <td>2.196503</td>\n",
       "    </tr>\n",
       "    <tr>\n",
       "      <th>8</th>\n",
       "      <td>1.584963</td>\n",
       "      <td>1.098106</td>\n",
       "      <td>1.584963</td>\n",
       "      <td>1.098556</td>\n",
       "      <td>2.196662</td>\n",
       "    </tr>\n",
       "  </tbody>\n",
       "</table>\n",
       "</div>"
      ],
      "text/plain": [
       "            Ux        Hx        Uy        Hy       Hxy\n",
       "Name                                                  \n",
       "0     1.584963  0.970116  1.584963  1.085189  2.049841\n",
       "1     1.584963  1.083187  1.584963  1.096910  2.180042\n",
       "2     1.584963  1.092925  1.584963  1.097982  2.190900\n",
       "3     1.584963  1.095678  1.584963  1.098287  2.193963\n",
       "4     1.584963  1.096826  1.584963  1.098414  2.195239\n",
       "5     1.584963  1.097412  1.584963  1.098479  2.195890\n",
       "6     1.584963  1.097750  1.584963  1.098517  2.196266\n",
       "7     1.584963  1.097963  1.584963  1.098540  2.196503\n",
       "8     1.584963  1.098106  1.584963  1.098556  2.196662"
      ]
     },
     "execution_count": 192,
     "metadata": {},
     "output_type": "execute_result"
    }
   ],
   "source": [
    "edf"
   ]
  },
  {
   "cell_type": "code",
   "execution_count": null,
   "metadata": {},
   "outputs": [],
   "source": []
  }
 ],
 "metadata": {
  "kernelspec": {
   "display_name": "Python 3",
   "language": "python",
   "name": "python3"
  },
  "language_info": {
   "codemirror_mode": {
    "name": "ipython",
    "version": 3
   },
   "file_extension": ".py",
   "mimetype": "text/x-python",
   "name": "python",
   "nbconvert_exporter": "python",
   "pygments_lexer": "ipython3",
   "version": "3.6.5"
  }
 },
 "nbformat": 4,
 "nbformat_minor": 2
}
